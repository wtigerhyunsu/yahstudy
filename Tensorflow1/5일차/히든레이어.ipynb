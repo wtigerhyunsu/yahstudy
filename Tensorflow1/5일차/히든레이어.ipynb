{
  "nbformat": 4,
  "nbformat_minor": 0,
  "metadata": {
    "colab": {
      "name": "히든레이어.ipynb",
      "provenance": [],
      "authorship_tag": "ABX9TyNYBhwAXRAIFGIo8R4iE4Ql",
      "include_colab_link": true
    },
    "kernelspec": {
      "name": "python3",
      "display_name": "Python 3"
    }
  },
  "cells": [
    {
      "cell_type": "markdown",
      "metadata": {
        "id": "view-in-github",
        "colab_type": "text"
      },
      "source": [
        "<a href=\"https://colab.research.google.com/github/wtigerhyunsu/yahstudy/blob/master/%ED%9E%88%EB%93%A0%EB%A0%88%EC%9D%B4%EC%96%B4.ipynb\" target=\"_parent\"><img src=\"https://colab.research.google.com/assets/colab-badge.svg\" alt=\"Open In Colab\"/></a>"
      ]
    },
    {
      "cell_type": "markdown",
      "metadata": {
        "id": "TVP4YDVcQORP",
        "colab_type": "text"
      },
      "source": [
        "# 히든레이어 \n",
        "\n",
        "\n",
        "\n",
        "*   보스턴 집값 예측 : 'https://raw.githubusercontent.com/blackdew/tensorflow1/master/csv/boston.csv'\n",
        "*   아이리스 품종 분류 : 'https://raw.githubusercontent.com/blackdew/tensorflow1/master/csv/iris.csv'\n",
        "\n",
        "\n",
        "\n",
        "\n"
      ]
    },
    {
      "cell_type": "code",
      "metadata": {
        "id": "oduQYqSfPtqT",
        "colab_type": "code",
        "colab": {}
      },
      "source": [
        "# 라이브러리 사용 \n",
        "import tensorflow as tf\n",
        "import pandas as pd"
      ],
      "execution_count": 6,
      "outputs": []
    },
    {
      "cell_type": "code",
      "metadata": {
        "id": "Wzqi51l0Q0kT",
        "colab_type": "code",
        "colab": {}
      },
      "source": [
        "# 1.과거의 데이터를 준비합니다.\n",
        "파일경로 = 'https://raw.githubusercontent.com/blackdew/tensorflow1/master/csv/boston.csv'\n",
        "보스턴 = pd.read_csv(파일경로)\n",
        " "
      ],
      "execution_count": 7,
      "outputs": []
    },
    {
      "cell_type": "code",
      "metadata": {
        "id": "qupUcuXwQ7ox",
        "colab_type": "code",
        "colab": {
          "base_uri": "https://localhost:8080/",
          "height": 35
        },
        "outputId": "507f5d04-dc0a-4f2f-a9cb-3a1540a0b5b8"
      },
      "source": [
        "# 종속변수, 독립변수\n",
        "독립 = 보스턴[['crim', 'zn', 'indus', 'chas', 'nox', \n",
        "            'rm', 'age', 'dis', 'rad', 'tax',\n",
        "            'ptratio', 'b', 'lstat']]\n",
        "종속 = 보스턴[['medv']]\n",
        "print(독립.shape, 종속.shape)\n",
        " "
      ],
      "execution_count": 8,
      "outputs": [
        {
          "output_type": "stream",
          "text": [
            "(506, 13) (506, 1)\n"
          ],
          "name": "stdout"
        }
      ]
    },
    {
      "cell_type": "code",
      "metadata": {
        "id": "HDy2NOIFRBBy",
        "colab_type": "code",
        "colab": {}
      },
      "source": [
        "# 2. 모델의 구조를 만듭니다\n",
        "X = tf.keras.layers.Input(shape=[13])\n",
        "H = tf.keras.layers.Dense(10, activation='swish')(X)\n",
        "Y = tf.keras.layers.Dense(1)(H)\n",
        "model = tf.keras.models.Model(X, Y)\n",
        "model.compile(loss='mse')\n",
        " "
      ],
      "execution_count": 9,
      "outputs": []
    },
    {
      "cell_type": "code",
      "metadata": {
        "id": "idzfsU78RDqS",
        "colab_type": "code",
        "colab": {
          "base_uri": "https://localhost:8080/",
          "height": 269
        },
        "outputId": "f4c04807-8156-4b3b-9fba-cf1404d17241"
      },
      "source": [
        "# 모델 구조 확인\n",
        "model.summary()\n",
        " "
      ],
      "execution_count": 10,
      "outputs": [
        {
          "output_type": "stream",
          "text": [
            "Model: \"functional_1\"\n",
            "_________________________________________________________________\n",
            "Layer (type)                 Output Shape              Param #   \n",
            "=================================================================\n",
            "input_1 (InputLayer)         [(None, 13)]              0         \n",
            "_________________________________________________________________\n",
            "dense (Dense)                (None, 10)                140       \n",
            "_________________________________________________________________\n",
            "dense_1 (Dense)              (None, 1)                 11        \n",
            "=================================================================\n",
            "Total params: 151\n",
            "Trainable params: 151\n",
            "Non-trainable params: 0\n",
            "_________________________________________________________________\n"
          ],
          "name": "stdout"
        }
      ]
    },
    {
      "cell_type": "code",
      "metadata": {
        "id": "N3DH4WXVRE9C",
        "colab_type": "code",
        "colab": {
          "base_uri": "https://localhost:8080/",
          "height": 395
        },
        "outputId": "43279571-4950-4c4d-dcee-49708040dd99"
      },
      "source": [
        "# 3.데이터로 모델을 학습(FIT)합니다.\n",
        "model.fit(독립, 종속, epochs=1000, verbose=0)\n",
        "model.fit(독립, 종속, epochs=10)"
      ],
      "execution_count": 14,
      "outputs": [
        {
          "output_type": "stream",
          "text": [
            "Epoch 1/10\n",
            "16/16 [==============================] - 0s 1ms/step - loss: 17.7765\n",
            "Epoch 2/10\n",
            "16/16 [==============================] - 0s 1ms/step - loss: 16.9763\n",
            "Epoch 3/10\n",
            "16/16 [==============================] - 0s 1ms/step - loss: 18.8595\n",
            "Epoch 4/10\n",
            "16/16 [==============================] - 0s 1ms/step - loss: 16.4724\n",
            "Epoch 5/10\n",
            "16/16 [==============================] - 0s 1ms/step - loss: 18.3999\n",
            "Epoch 6/10\n",
            "16/16 [==============================] - 0s 1ms/step - loss: 17.0964\n",
            "Epoch 7/10\n",
            "16/16 [==============================] - 0s 1ms/step - loss: 18.4875\n",
            "Epoch 8/10\n",
            "16/16 [==============================] - 0s 1ms/step - loss: 17.8481\n",
            "Epoch 9/10\n",
            "16/16 [==============================] - 0s 1ms/step - loss: 17.2390\n",
            "Epoch 10/10\n",
            "16/16 [==============================] - 0s 974us/step - loss: 18.8100\n"
          ],
          "name": "stdout"
        },
        {
          "output_type": "execute_result",
          "data": {
            "text/plain": [
              "<tensorflow.python.keras.callbacks.History at 0x7f601ea93ef0>"
            ]
          },
          "metadata": {
            "tags": []
          },
          "execution_count": 14
        }
      ]
    },
    {
      "cell_type": "code",
      "metadata": {
        "id": "W1nguck9RGQi",
        "colab_type": "code",
        "colab": {
          "base_uri": "https://localhost:8080/",
          "height": 215
        },
        "outputId": "ba66ec17-3097-4ab7-de69-9ac35b3c76e5"
      },
      "source": [
        "# 4. 모델을 이용합니다\n",
        "print(model.predict(독립[:5]))\n",
        "print(종속[:5])"
      ],
      "execution_count": 15,
      "outputs": [
        {
          "output_type": "stream",
          "text": [
            "[[29.402958]\n",
            " [21.901798]\n",
            " [31.11349 ]\n",
            " [35.0525  ]\n",
            " [34.301388]]\n",
            "   medv\n",
            "0  24.0\n",
            "1  21.6\n",
            "2  34.7\n",
            "3  33.4\n",
            "4  36.2\n"
          ],
          "name": "stdout"
        }
      ]
    },
    {
      "cell_type": "code",
      "metadata": {
        "id": "TBGiaiKGRHiK",
        "colab_type": "code",
        "colab": {}
      },
      "source": [
        "# 모델의 수식 확인\n",
        "print(model.get_weights())"
      ],
      "execution_count": null,
      "outputs": []
    }
  ]
}